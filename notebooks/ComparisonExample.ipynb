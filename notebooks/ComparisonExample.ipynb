{
 "cells": [
  {
   "cell_type": "code",
   "execution_count": null,
   "metadata": {},
   "outputs": [],
   "source": [
    "%load_ext autoreload\n",
    "%autoreload 2\n",
    "from model_comparison import ModelComparison\n",
    "mc = ModelComparison(folder='hyperparam_opt')\n",
    "\n",
    "#Settings included for consistency, can comment them out/use hyperparameters from optimal run\n",
    "mc.settings_train(epochs=150, batch_size=4, num_steps_per_batch=1)\n",
    "mc.settings_criterion(criterion='MSE')\n",
    "mc.settings_models(model_types=['pixelwise', 'unet', 'fcn8'], dropout=0.2, use_batch_norm=False)\n",
    "mc.settings_optimizer(optimizer='AdamW')\n",
    "mc.settings_scheduler(factor=0.3, patience=5)\n",
    "mc.settings_validation_test(power_transforms=[[None], [0]])\n",
    "mc.settings_early_stopping(patience=20)"
   ]
  },
  {
   "cell_type": "code",
   "execution_count": null,
   "metadata": {},
   "outputs": [],
   "source": [
    "#Creates calculation file with original images\n",
    "mc.generate_baseline_series(remake=True)\n",
    "#Adds each model's prediction to calculation file\n",
    "mc.generate_prediction_series()\n",
    "#Calculates all metrics for generating later plots\n",
    "mc.calculate_metrics()"
   ]
  },
  {
   "cell_type": "markdown",
   "metadata": {},
   "source": [
    "# Percent Error Model Comparison"
   ]
  },
  {
   "cell_type": "code",
   "execution_count": null,
   "metadata": {},
   "outputs": [],
   "source": [
    "mc.generate_aggregate_comparison_images(metrics=['PE'], \n",
    "                                        regenerate=True, show_stats=False, \n",
    "                                        data_types=['test'], agg_types=['median'], im_format='pdf', dpi=300)"
   ]
  },
  {
   "cell_type": "markdown",
   "metadata": {},
   "source": [
    "# Flux Pair Overlay"
   ]
  },
  {
   "cell_type": "code",
   "execution_count": null,
   "metadata": {},
   "outputs": [],
   "source": [
    "mc.generate_flux_pair_overlay_images(metrics=['flux'],\n",
    "                                     model_type_pairs=['pixelwise', 'fcn8_dist'], \n",
    "                                     model_name_pairs=['Pixelwise', 'FCN with Limb'], \n",
    "                                     data_types=['test'], regenerate=True, dpi=300, \n",
    "                                     include_stats=False, im_format='pdf')"
   ]
  },
  {
   "cell_type": "markdown",
   "metadata": {},
   "source": [
    "# Annotated Filament Example"
   ]
  },
  {
   "cell_type": "code",
   "execution_count": null,
   "metadata": {},
   "outputs": [],
   "source": [
    "mc.generate_feature_target_prediction_difference_images('fcn8', \n",
    "                                                        use_dist_feature=True, \n",
    "                                                        use_lat_feature=True, \n",
    "                                                        idx=[252], dpi=300, \n",
    "                                                        regenerate=True, \n",
    "                                                        top_left=(400, 100), crop_size=(400, 400), \n",
    "                                                        error_limit=0.1, color_limit_euv=0.1, color_limit_hei=1.75,\n",
    "                                                        im_format='pdf',\n",
    "                                                        annotations=[[(0.70, 0.85), (0.80, 0.5), 'Filament'],\n",
    "                                                                     [(0.65, 0.12), (0.90, 0.27), 'Active Region']])"
   ]
  },
  {
   "cell_type": "markdown",
   "metadata": {},
   "source": [
    "# Example Predicted Image"
   ]
  },
  {
   "cell_type": "code",
   "execution_count": null,
   "metadata": {},
   "outputs": [],
   "source": [
    "mc.generate_feature_target_prediction_difference_images('fcn8', use_dist_feature=True, use_lat_feature=True, \n",
    "                                                        idx=[287], dpi=300, regenerate=True,\n",
    "                                                        im_format='pdf',\n",
    "                                                        error_limit=0.1, color_limit_euv=0.1, color_limit_hei=1.75)"
   ]
  }
 ],
 "metadata": {
  "kernelspec": {
   "display_name": "Python 3",
   "language": "python",
   "name": "python3"
  },
  "language_info": {
   "codemirror_mode": {
    "name": "ipython",
    "version": 3
   },
   "file_extension": ".py",
   "mimetype": "text/x-python",
   "name": "python",
   "nbconvert_exporter": "python",
   "pygments_lexer": "ipython3",
   "version": "3.7.6"
  }
 },
 "nbformat": 4,
 "nbformat_minor": 4
}
