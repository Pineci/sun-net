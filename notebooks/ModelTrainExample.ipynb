{
 "cells": [
  {
   "cell_type": "code",
   "execution_count": 1,
   "metadata": {},
   "outputs": [],
   "source": [
    "%load_ext autoreload\n",
    "%autoreload 2\n",
    "import numpy as np\n",
    "from sunmodel import SunModel"
   ]
  },
  {
   "cell_type": "code",
   "execution_count": 2,
   "metadata": {},
   "outputs": [
    {
     "name": "stdout",
     "output_type": "stream",
     "text": [
      "Initializing...\n",
      "Setting up training set...\n",
      "Random State: 123\n",
      "[-56.85624]\n",
      "{'x_train_min': [-4662.5], 'y_train_min': [-82.43375], 'x_train_mean': array([0.02038956]), 'y_train_mean': array([5.97903054]), 'x_train_std': array([0.0708312]), 'y_train_std': array([8.49603878])}\n",
      "BEGIN MODEL TRAINING\n",
      "Model Training head: [ 2  3  4  7  9 10 12 18 21 25]\n",
      "Model Validation head: [ 0  8 11 13 16 17 19 22 24 26]\n",
      "Model Testing head: [ 1  5  6 14 15 20 23 30 36 37]\n",
      "EPOCH: 0\n"
     ]
    },
    {
     "name": "stderr",
     "output_type": "stream",
     "text": [
      "Batches Completed: 100%|██████████| 140/140 [01:52<00:00,  1.24it/s]\n"
     ]
    },
    {
     "name": "stdout",
     "output_type": "stream",
     "text": [
      "Train: 1.115362e-03 Val: 6.041602e-04 Best: 6.041602e-04 + LR: 1.00e-03\n",
      "EPOCH: 1\n"
     ]
    },
    {
     "name": "stderr",
     "output_type": "stream",
     "text": [
      "Batches Completed: 100%|██████████| 140/140 [01:50<00:00,  1.26it/s]\n"
     ]
    },
    {
     "name": "stdout",
     "output_type": "stream",
     "text": [
      "Train: 4.349975e-04 Val: 4.224730e-04 Best: 4.224730e-04 + LR: 1.00e-03\n",
      "EPOCH: 2\n"
     ]
    },
    {
     "name": "stderr",
     "output_type": "stream",
     "text": [
      "Batches Completed: 100%|██████████| 140/140 [01:52<00:00,  1.25it/s]\n"
     ]
    },
    {
     "name": "stdout",
     "output_type": "stream",
     "text": [
      "Train: 3.660199e-04 Val: 4.570988e-04 Best: 4.224730e-04 + LR: 1.00e-03\n",
      "EPOCH: 3\n"
     ]
    },
    {
     "name": "stderr",
     "output_type": "stream",
     "text": [
      "Batches Completed: 100%|██████████| 140/140 [01:53<00:00,  1.24it/s]\n"
     ]
    },
    {
     "name": "stdout",
     "output_type": "stream",
     "text": [
      "Train: 3.765844e-04 Val: 4.089568e-04 Best: 4.089568e-04 + LR: 1.00e-03\n",
      "EPOCH: 4\n"
     ]
    },
    {
     "name": "stderr",
     "output_type": "stream",
     "text": [
      "Batches Completed: 100%|██████████| 140/140 [01:51<00:00,  1.25it/s]\n"
     ]
    },
    {
     "name": "stdout",
     "output_type": "stream",
     "text": [
      "Train: 3.390337e-04 Val: 3.688199e-04 Best: 3.688199e-04 + LR: 1.00e-03\n",
      "EPOCH: 5\n"
     ]
    },
    {
     "name": "stderr",
     "output_type": "stream",
     "text": [
      "Batches Completed: 100%|██████████| 140/140 [01:52<00:00,  1.25it/s]\n"
     ]
    },
    {
     "name": "stdout",
     "output_type": "stream",
     "text": [
      "Train: 3.115144e-04 Val: 3.470752e-04 Best: 3.470752e-04 + LR: 1.00e-03\n",
      "EPOCH: 6\n"
     ]
    },
    {
     "name": "stderr",
     "output_type": "stream",
     "text": [
      "Batches Completed: 100%|██████████| 140/140 [01:50<00:00,  1.27it/s]\n"
     ]
    },
    {
     "name": "stdout",
     "output_type": "stream",
     "text": [
      "Train: 2.956934e-04 Val: 3.225933e-04 Best: 3.225933e-04 + LR: 1.00e-03\n",
      "EPOCH: 7\n"
     ]
    },
    {
     "name": "stderr",
     "output_type": "stream",
     "text": [
      "Batches Completed: 100%|██████████| 140/140 [01:50<00:00,  1.27it/s]\n"
     ]
    },
    {
     "name": "stdout",
     "output_type": "stream",
     "text": [
      "Train: 3.039965e-04 Val: 3.300019e-04 Best: 3.225933e-04 + LR: 1.00e-03\n",
      "EPOCH: 8\n"
     ]
    },
    {
     "name": "stderr",
     "output_type": "stream",
     "text": [
      "Batches Completed: 100%|██████████| 140/140 [01:49<00:00,  1.27it/s]\n"
     ]
    },
    {
     "name": "stdout",
     "output_type": "stream",
     "text": [
      "Train: 2.879742e-04 Val: 3.378890e-04 Best: 3.225933e-04 + LR: 1.00e-03\n",
      "EPOCH: 9\n"
     ]
    },
    {
     "name": "stderr",
     "output_type": "stream",
     "text": [
      "Batches Completed: 100%|██████████| 140/140 [01:50<00:00,  1.27it/s]\n"
     ]
    },
    {
     "name": "stdout",
     "output_type": "stream",
     "text": [
      "Train: 2.826053e-04 Val: 3.307238e-04 Best: 3.225933e-04 + LR: 1.00e-03\n",
      "END TRAINING\n"
     ]
    },
    {
     "data": {
      "text/plain": [
       "{'MSE': 0.0013294716606507887, 'MAE': 0.02781323368636597}"
      ]
     },
     "execution_count": 2,
     "metadata": {},
     "output_type": "execute_result"
    }
   ],
   "source": [
    "model = SunModel(device='gpu', save_folder='models', save_name='hyperparameter_tuning.pt', load_model=True)\n",
    "model.settings_dataset()\n",
    "model.settings_model(model='fcn8', add_distance_channel=True, add_latitude_channel=True, dropout=0.2, use_batch_norm=False)\n",
    "model.settings_criterion(criterion='MSE')\n",
    "model.settings_optimizer(optimizer='AdamW', lr=0.001, weight_decay=1e-7, momentum=0.8, batch_size=4, num_steps_per_batch=1)\n",
    "model.settings_scheduler(scheduler='ReduceLROnPlateau', factor=0.1, patience=5, min_lr=1e-8)\n",
    "model.settings_early_stopping(patience=15, mode='min', min_delta=0, percentage=False)\n",
    "model.create_train_val_test_sets(random_state=123, mode='month') #mode == 'month' splits months randomly, mode == 'month-regular' takes Q1+Q2 for training, Q3 validation, Q4 testing\n",
    "model.train_network(epochs=10)\n",
    "model.eval_network_ME(mode='test', metrics=['MSE', 'MAE'])"
   ]
  },
  {
   "cell_type": "code",
   "execution_count": null,
   "metadata": {},
   "outputs": [],
   "source": []
  }
 ],
 "metadata": {
  "kernelspec": {
   "display_name": "Python 3",
   "language": "python",
   "name": "python3"
  },
  "language_info": {
   "codemirror_mode": {
    "name": "ipython",
    "version": 3
   },
   "file_extension": ".py",
   "mimetype": "text/x-python",
   "name": "python",
   "nbconvert_exporter": "python",
   "pygments_lexer": "ipython3",
   "version": "3.7.6"
  }
 },
 "nbformat": 4,
 "nbformat_minor": 4
}
