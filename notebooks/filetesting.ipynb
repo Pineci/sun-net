{
 "cells": [
  {
   "cell_type": "code",
   "execution_count": 20,
   "metadata": {},
   "outputs": [],
   "source": [
    "import numpy as np\n",
    "import h5py\n",
    "import os\n",
    "\n",
    "def make_arr(size=(20, 20)):\n",
    "    return np.array(np.random.rand(*size), dtype=np.float32)\n",
    "\n",
    "file_name = 'test.h5'\n",
    "os.remove(file_name)\n",
    "\n",
    "with h5py.File(file_name, 'w') as hf:\n",
    "    new_x_arr = make_arr(size=(1, 20, 20))\n",
    "    new_y_arr = make_arr(size=(1, 20, 20))\n",
    "    hf.create_dataset(\"X\", data=new_x_arr, chunks=True, maxshape=(None, 20, 20))\n",
    "    hf.create_dataset(\"Y\", data=new_y_arr, chunks=True, maxshape=(None, 20, 20))\n",
    "    \n",
    "for i in range(10):\n",
    "    with h5py.File(file_name, 'a') as hf:\n",
    "        new_x_arr = make_arr(size=(5, 20, 20))\n",
    "        hf[\"X\"].resize((hf[\"X\"].shape[0] + new_x_arr.shape[0]), axis = 0)\n",
    "        hf[\"X\"][-new_x_arr.shape[0]:] = new_x_arr\n",
    "\n",
    "        new_y_arr = make_arr(size=(5, 20, 20))\n",
    "        hf[\"Y\"].resize((hf[\"Y\"].shape[0] + new_y_arr.shape[0]), axis = 0)\n",
    "        hf[\"Y\"][-new_y_arr.shape[0]:] = new_y_arr\n",
    "\n",
    "    "
   ]
  },
  {
   "cell_type": "code",
   "execution_count": 23,
   "metadata": {},
   "outputs": [
    {
     "name": "stdout",
     "output_type": "stream",
     "text": [
      "(10, 20, 20)\n"
     ]
    }
   ],
   "source": [
    "with h5py.File(file_name, 'r') as hf:\n",
    "    dataset = hf[\"X\"]\n",
    "    data = dataset[20:30]\n",
    "    print(data.shape)"
   ]
  }
 ],
 "metadata": {
  "kernelspec": {
   "display_name": "Python 3",
   "language": "python",
   "name": "python3"
  },
  "language_info": {
   "codemirror_mode": {
    "name": "ipython",
    "version": 3
   },
   "file_extension": ".py",
   "mimetype": "text/x-python",
   "name": "python",
   "nbconvert_exporter": "python",
   "pygments_lexer": "ipython3",
   "version": "3.7.6"
  }
 },
 "nbformat": 4,
 "nbformat_minor": 4
}
