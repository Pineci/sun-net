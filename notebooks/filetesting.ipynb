{
 "cells": [
  {
   "cell_type": "code",
   "execution_count": 4,
   "metadata": {},
   "outputs": [
    {
     "data": {
      "text/plain": [
       "'\\nfor i in range(10):\\n    with h5py.File(file_name, \\'a\\') as hf:\\n        new_x_arr = make_arr(size=(5, 1, 1))\\n        new_y_arr = make_arr(size=(5, 1, 1))\\n        #hf[\"X\"].resize((hf[\"X\"].shape[0] + new_x_arr.shape[0]), axis = 0)\\n        #hf[\"X\"][-new_x_arr.shape[0]:] = new_x_arr\\n        \\n        start, end = i*5, (i+1)*5\\n        hf[\"X\"][start:end] = new_x_arr\\n        #hf[\"Y\"][start:end] = new_y_arr\\n        hf[\\'Str\\'][start] = str(start)\\n        \\n        #hf[\\'X\\'].attrs[\\'test\\'] = i\\n        #i += 1\\n\\n        #new_y_arr = make_arr(size=(5, 20, 20))\\n        #hf[\"Y\"].resize((hf[\"Y\"].shape[0] + new_y_arr.shape[0]), axis = 0)\\n        #hf[\"Y\"][-new_y_arr.shape[0]:] = new_y_arr\\n'"
      ]
     },
     "execution_count": 4,
     "metadata": {},
     "output_type": "execute_result"
    }
   ],
   "source": [
    "import numpy as np\n",
    "import h5py\n",
    "import os\n",
    "\n",
    "def make_arr(size=(20, 20)):\n",
    "    return np.array(np.random.rand(*size), dtype=np.float32)\n",
    "\n",
    "file_name = 'test.h5'\n",
    "#os.remove(file_name)\n",
    "\n",
    "remake=False\n",
    "\n",
    "with h5py.File(file_name, 'w') as hf:\n",
    "    #new_x_arr = make_arr(size=(1, 20, 20))\n",
    "    #new_y_arr = make_arr(size=(1, 20, 20))\n",
    "    \n",
    "    #hf.create_dataset(\"Y\", chunks=True, maxshape=(None, 20, 20), dtype='f8')\n",
    "    \n",
    "    hf.create_dataset('X', shape=(500, 2000, 2000), chunks=True, dtype=np.float32)\n",
    "    hf.create_dataset('Y', shape=(50, 1, 1))\n",
    "    hf.create_dataset('Str', shape=(50,1), dtype=h5py.string_dtype())\n",
    "    hf['X'].attrs['Num Processed'] = 0\n",
    "    #hf['X'].attrs['test'] = i\n",
    "    #i += 1\n",
    "\n",
    "with h5py.File(file_name, 'a') as hf:\n",
    "    hf['X'][:] = make_arr(size=(500, 2000, 2000))\n",
    "    hf['Y'][:] = make_arr(size=(50, 1, 1))\n",
    " \n",
    "'''\n",
    "for i in range(10):\n",
    "    with h5py.File(file_name, 'a') as hf:\n",
    "        new_x_arr = make_arr(size=(5, 1, 1))\n",
    "        new_y_arr = make_arr(size=(5, 1, 1))\n",
    "        #hf[\"X\"].resize((hf[\"X\"].shape[0] + new_x_arr.shape[0]), axis = 0)\n",
    "        #hf[\"X\"][-new_x_arr.shape[0]:] = new_x_arr\n",
    "        \n",
    "        start, end = i*5, (i+1)*5\n",
    "        hf[\"X\"][start:end] = new_x_arr\n",
    "        #hf[\"Y\"][start:end] = new_y_arr\n",
    "        hf['Str'][start] = str(start)\n",
    "        \n",
    "        #hf['X'].attrs['test'] = i\n",
    "        #i += 1\n",
    "\n",
    "        #new_y_arr = make_arr(size=(5, 20, 20))\n",
    "        #hf[\"Y\"].resize((hf[\"Y\"].shape[0] + new_y_arr.shape[0]), axis = 0)\n",
    "        #hf[\"Y\"][-new_y_arr.shape[0]:] = new_y_arr\n",
    "'''\n",
    "  "
   ]
  },
  {
   "cell_type": "code",
   "execution_count": 7,
   "metadata": {},
   "outputs": [],
   "source": [
    "import os\n",
    "import pathlib\n",
    "\n",
    "os.remove(pathlib.Path(file_name))"
   ]
  },
  {
   "cell_type": "code",
   "execution_count": 5,
   "metadata": {},
   "outputs": [],
   "source": [
    "with h5py.File(file_name, 'a') as hf:\n",
    "    del hf['X']"
   ]
  },
  {
   "cell_type": "code",
   "execution_count": 3,
   "metadata": {},
   "outputs": [
    {
     "name": "stdout",
     "output_type": "stream",
     "text": [
      "[[[0.]]\n",
      "\n",
      " [[0.]]\n",
      "\n",
      " [[0.]]\n",
      "\n",
      " [[0.]]\n",
      "\n",
      " [[0.]]\n",
      "\n",
      " [[0.]]\n",
      "\n",
      " [[0.]]\n",
      "\n",
      " [[0.]]\n",
      "\n",
      " [[0.]]\n",
      "\n",
      " [[0.]]\n",
      "\n",
      " [[0.]]\n",
      "\n",
      " [[0.]]\n",
      "\n",
      " [[0.]]\n",
      "\n",
      " [[0.]]\n",
      "\n",
      " [[0.]]\n",
      "\n",
      " [[0.]]\n",
      "\n",
      " [[0.]]\n",
      "\n",
      " [[0.]]\n",
      "\n",
      " [[0.]]\n",
      "\n",
      " [[0.]]\n",
      "\n",
      " [[0.]]\n",
      "\n",
      " [[0.]]\n",
      "\n",
      " [[0.]]\n",
      "\n",
      " [[0.]]\n",
      "\n",
      " [[0.]]\n",
      "\n",
      " [[0.]]\n",
      "\n",
      " [[0.]]\n",
      "\n",
      " [[0.]]\n",
      "\n",
      " [[0.]]\n",
      "\n",
      " [[0.]]\n",
      "\n",
      " [[0.]]\n",
      "\n",
      " [[0.]]\n",
      "\n",
      " [[0.]]\n",
      "\n",
      " [[0.]]\n",
      "\n",
      " [[0.]]\n",
      "\n",
      " [[0.]]\n",
      "\n",
      " [[0.]]\n",
      "\n",
      " [[0.]]\n",
      "\n",
      " [[0.]]\n",
      "\n",
      " [[0.]]\n",
      "\n",
      " [[0.]]\n",
      "\n",
      " [[0.]]\n",
      "\n",
      " [[0.]]\n",
      "\n",
      " [[0.]]\n",
      "\n",
      " [[0.]]\n",
      "\n",
      " [[0.]]\n",
      "\n",
      " [[0.]]\n",
      "\n",
      " [[0.]]\n",
      "\n",
      " [[0.]]\n",
      "\n",
      " [[0.]]]\n",
      "[ 0  1  2  3  4  5  6  7  8  9 10 11 12 13 14 15 16 17 18 19 20 21 22 23\n",
      " 24 25 26 27 28 29 30 31 32 33 34 35 36 37 38 39 40 41 42 43 44 45 46 47\n",
      " 48 49]\n",
      "40\n",
      "False\n",
      "(50, 1, 1)\n"
     ]
    }
   ],
   "source": [
    "with h5py.File(file_name, 'r') as hf:\n",
    "    dataset = hf[\"X\"]\n",
    "    data = dataset[:]\n",
    "    #print(data)\n",
    "    data = hf[\"Str\"][:].reshape(-1)\n",
    "    print(hf['Y'][:])\n",
    "    idx = np.array(range(50))[np.logical_or(data == '', True)]\n",
    "    print(idx)\n",
    "    print(np.sum('' == data))\n",
    "    print('1' in data)\n",
    "    print(dataset.shape)"
   ]
  },
  {
   "cell_type": "code",
   "execution_count": 29,
   "metadata": {},
   "outputs": [],
   "source": [
    "import pandas as pd\n",
    "\n",
    "ex = pd.Timestamp('2016-10-20')"
   ]
  },
  {
   "cell_type": "code",
   "execution_count": 23,
   "metadata": {},
   "outputs": [
    {
     "data": {
      "text/plain": [
       "Timestamp('2016-10-20 00:00:00')"
      ]
     },
     "execution_count": 23,
     "metadata": {},
     "output_type": "execute_result"
    }
   ],
   "source": [
    "pd.Timestamp(ex.value)"
   ]
  },
  {
   "cell_type": "code",
   "execution_count": 32,
   "metadata": {},
   "outputs": [
    {
     "data": {
      "text/plain": [
       "Timestamp('2016-10-20 00:00:00')"
      ]
     },
     "execution_count": 32,
     "metadata": {},
     "output_type": "execute_result"
    }
   ],
   "source": [
    "pd.Timestamp(ex.value / 10**9, unit='s')"
   ]
  },
  {
   "cell_type": "code",
   "execution_count": 6,
   "metadata": {},
   "outputs": [
    {
     "name": "stderr",
     "output_type": "stream",
     "text": [
      "100%|██████████| 2000000/2000000 [00:00<00:00, 4443627.03it/s]\n"
     ]
    }
   ],
   "source": [
    "from tqdm import tqdm\n",
    "for i in tqdm(range(1000000, 3000000)):\n",
    "    d = 0"
   ]
  },
  {
   "cell_type": "code",
   "execution_count": null,
   "metadata": {},
   "outputs": [],
   "source": []
  }
 ],
 "metadata": {
  "kernelspec": {
   "display_name": "Python 3",
   "language": "python",
   "name": "python3"
  },
  "language_info": {
   "codemirror_mode": {
    "name": "ipython",
    "version": 3
   },
   "file_extension": ".py",
   "mimetype": "text/x-python",
   "name": "python",
   "nbconvert_exporter": "python",
   "pygments_lexer": "ipython3",
   "version": "3.7.6"
  }
 },
 "nbformat": 4,
 "nbformat_minor": 4
}
